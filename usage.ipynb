{
 "cells": [
  {
   "cell_type": "code",
   "execution_count": 1,
   "metadata": {},
   "outputs": [
    {
     "name": "stdout",
     "output_type": "stream",
     "text": [
      "get briefing statement urls 1 / 3\n",
      "get briefing statement urls 2 / 3\n",
      "get briefing statement urls 3 / 3\n",
      "30 urls for all news\n"
     ]
    }
   ],
   "source": [
    "import time\n",
    "import whitehouse_scraper\n",
    "from whitehouse_scraper import get_allnews_urls\n",
    "from whitehouse_scraper import parse_page\n",
    "\n",
    "urls = get_allnews_urls(begin_page=1, end_page=3, verbose=True)\n",
    "print('%d urls for all news' % len(urls))"
   ]
  },
  {
   "cell_type": "code",
   "execution_count": 1,
   "metadata": {},
   "outputs": [
    {
     "name": "stdout",
     "output_type": "stream",
     "text": [
      "[1 / 50] (January 12, 2019) Remarks by President Trump During Roundtable Discussion with State, Local, and Community Leaders on Border Security and Safe Communities\n",
      "[2 / 50] (January 11, 2019) President Donald J. Trump Announces Intent to Nominate Individuals to Key Administration Posts\n",
      "[3 / 50] (January 11, 2019) Statement from National Security Advisor Ambassador John Bolton on Venezuela\n",
      "[4 / 50] (January 11, 2019) Remarks by Vice President Pence Before Meet-and-Greet with U.S. Customs and Border Patrol Employees\n",
      "[5 / 50] (January 11, 2019) Remarks by President Trump During Briefing at the Rio Grande Valley U.S.-Mexico Border\n",
      "[6 / 50] (January 11, 2019) Remarks by President Trump in Roundtable on Border Security | McAllen, TX\n",
      "[7 / 50] (January 11, 2019) White House National Security Advisor Announces Senior Staff Appointment\n",
      "[8 / 50] (January 10, 2019) Bill Announcement\n",
      "[9 / 50] (January 10, 2019) The Crisis at the Southern Border Is Too Urgent to Ignore\n",
      "[10 / 50] (January 10, 2019) Remarks by President Trump Before Marine One Departure\n",
      "[11 / 50] (January 10, 2019) Secretary Nielsen: “We Face a Humanitarian and Security Crisis”\n",
      "Stop scrapping. 11 / 50 news was scrapped\n",
      "The oldest news has been created after 2019-01-10\n"
     ]
    }
   ],
   "source": [
    "from whitehouse_scraper import yield_latest_allnews\n",
    "\n",
    "begin_date = '2019-01-10'\n",
    "max_num = 50\n",
    "sleep = 1.0\n",
    "\n",
    "for i, json_obj in enumerate(yield_latest_allnews(begin_date, max_num, sleep)):\n",
    "    title = json_obj['title']\n",
    "    time = json_obj['time']\n",
    "    print('[{} / {}] ({}) {}'.format(i+1, max_num, time, title))"
   ]
  },
  {
   "cell_type": "code",
   "execution_count": null,
   "metadata": {
    "collapsed": true
   },
   "outputs": [],
   "source": []
  }
 ],
 "metadata": {
  "kernelspec": {
   "display_name": "Python 3",
   "language": "python",
   "name": "python3"
  },
  "language_info": {
   "codemirror_mode": {
    "name": "ipython",
    "version": 3
   },
   "file_extension": ".py",
   "mimetype": "text/x-python",
   "name": "python",
   "nbconvert_exporter": "python",
   "pygments_lexer": "ipython3",
   "version": "3.6.2"
  }
 },
 "nbformat": 4,
 "nbformat_minor": 2
}
