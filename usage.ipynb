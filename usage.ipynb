{
 "cells": [
  {
   "cell_type": "code",
   "execution_count": 3,
   "metadata": {},
   "outputs": [
    {
     "name": "stdout",
     "output_type": "stream",
     "text": [
      "get briefing statement urls 1 / 3\n",
      "get briefing statement urls 2 / 3\n",
      "get briefing statement urls 3 / 3\n",
      "25 urls for briefing statements\n"
     ]
    }
   ],
   "source": [
    "import time\n",
    "import whitehouse_scraper\n",
    "from whitehouse_scraper import get_briefings_statements\n",
    "from whitehouse_scraper import parse_page\n",
    "\n",
    "urls = get_briefings_statements(begin_page=1, end_page=3, verbose=True)\n",
    "print('%d urls for briefing statements' % len(urls))"
   ]
  },
  {
   "cell_type": "code",
   "execution_count": 5,
   "metadata": {},
   "outputs": [
    {
     "name": "stdout",
     "output_type": "stream",
     "text": [
      "title : Remarks by President Trump to Troops at Al Asad Air Base | Al Anbar Province, Iraq\n",
      "time : December 26, 2018\n",
      "content : 9:38 P.M. AST\n",
      "THE PRESIDENT:  Well, first of all, at ease.  At ease.  Let’s have a good time.  Let’s\n",
      "url : https://www.whitehouse.gov/briefings-statements/remarks-president-trump-troops-al-asad-air-base-al-a\n",
      "scrap_time : 2018-12-27 04:38:51\n",
      "\n",
      "\n",
      "title : Remarks by President Trump in Briefing at Al Asad Air Base | Al Anbar Province, Iraq\n",
      "time : December 26, 2018\n",
      "content : 7:38 P.M. AST\n",
      "THE PRESIDENT:  So we’re meeting with some of our great leaders.  We’re in Iraq.  We f\n",
      "url : https://www.whitehouse.gov/briefings-statements/remarks-president-trump-briefing-al-asad-air-base-al\n",
      "scrap_time : 2018-12-27 04:38:51\n",
      "\n",
      "\n",
      "title : Presidential Message on Kwanzaa\n",
      "time : December 26, 2018\n",
      "content : Melania and I send our greetings to all those observing Kwanzaa.\n",
      "This annual celebration of African \n",
      "url : https://www.whitehouse.gov/briefings-statements/presidential-message-kwanzaa/\n",
      "scrap_time : 2018-12-27 04:38:51\n",
      "\n",
      "\n"
     ]
    }
   ],
   "source": [
    "def pprint(json_object):\n",
    "    for k, v in json_object.items():\n",
    "        print('{} : {} ..'.format(k, str(v)[:100]))\n",
    "    print('\\n')\n",
    "\n",
    "SLEEP = 0.5\n",
    "\n",
    "for url in urls[:3]:\n",
    "    json_object = parse_page(url)\n",
    "    pprint(json_object)"
   ]
  },
  {
   "cell_type": "code",
   "execution_count": null,
   "metadata": {
    "collapsed": true
   },
   "outputs": [],
   "source": []
  }
 ],
 "metadata": {
  "kernelspec": {
   "display_name": "Python 3",
   "language": "python",
   "name": "python3"
  },
  "language_info": {
   "codemirror_mode": {
    "name": "ipython",
    "version": 3
   },
   "file_extension": ".py",
   "mimetype": "text/x-python",
   "name": "python",
   "nbconvert_exporter": "python",
   "pygments_lexer": "ipython3",
   "version": "3.6.2"
  }
 },
 "nbformat": 4,
 "nbformat_minor": 2
}
